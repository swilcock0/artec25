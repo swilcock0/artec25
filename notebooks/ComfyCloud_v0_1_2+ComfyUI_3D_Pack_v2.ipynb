{
  "cells": [
    {
      "cell_type": "markdown",
      "metadata": {
        "id": "view-in-github",
        "colab_type": "text"
      },
      "source": [
        "<a href=\"https://colab.research.google.com/github/swilcock0/artec25/blob/main/notebooks/ComfyCloud_v0_1_2%2BComfyUI_3D_Pack_v2.ipynb\" target=\"_parent\"><img src=\"https://colab.research.google.com/assets/colab-badge.svg\" alt=\"Open In Colab\"/></a>"
      ]
    },
    {
      "cell_type": "markdown",
      "metadata": {
        "id": "EXGAVghD0Wfu"
      },
      "source": [
        "# ComfyCloud v0.1.2 and ComfyUI-3D-Pack\n",
        "\n",
        "**ComfyUI + ComfyUI Manager + AnimateDiff (Evolved)** + ComfyUI-3D-Pack\n",
        "\n",
        "Forked from [ltdrdata/ComfyUI-Manager](https://colab.research.google.com/github/ltdrdata/ComfyUI-Manager/blob/main/notebooks/comfyui_colab_with_manager.ipynb), modified by [@dreammachineai](https://instagram.com/dreammachineai),\n",
        "remodified by [@odinlovis](https://x.com/OdinLovis) to integrate [ComfyUI-3D-Pack](https://github.com/MrForExample/ComfyUI-3D-Pack) by [@MrForExample](https://x.com/MrForExample)"
      ]
    },
    {
      "cell_type": "markdown",
      "metadata": {
        "id": "tmhrsnS_0Nb8"
      },
      "source": [
        "## Notes\n",
        "\n",
        "- Uncheck `INSTALL_COMFYUI_MANAGER`, `INSTALL_ANIMATEDIFF`, and `INSTALL_CUSTOM_NODES_DEPENDENCIES` after first run if `USE_GOOGLE_DRIVE` is checked.\n",
        "- Model, VAE, Controlnet et al. resources saved to Google Drive if `USE_GOOGLE_DRIVE` is checked\n",
        "- Resources downloaded from https://civitai.com/ need the file name and extension specified in `resource_name`"
      ]
    },
    {
      "cell_type": "markdown",
      "metadata": {
        "id": "aaaaaaaaaa"
      },
      "source": [
        "## Install Dependencies"
      ]
    },
    {
      "cell_type": "code",
      "execution_count": null,
      "metadata": {
        "colab": {
          "base_uri": "https://localhost:8080/"
        },
        "id": "bbbbbbbbbb",
        "outputId": "8aeb9381-b5ac-4193-986a-4675a5d7aee8"
      },
      "outputs": [
        {
          "output_type": "stream",
          "name": "stdout",
          "text": [
            "Mounting Google Drive...\n",
            "/\n",
            "Mounted at /content/drive\n",
            "Creating AI workspace (if it doesn't exist)\n",
            "/content/drive/MyDrive/AI\n",
            "-= Initial setup ComfyUI =-\n",
            "Cloning into 'ComfyUI'...\n",
            "remote: Enumerating objects: 16286, done.\u001b[K\n",
            "remote: Counting objects: 100% (3879/3879), done.\u001b[K\n",
            "remote: Compressing objects: 100% (520/520), done.\u001b[K\n",
            "remote: Total 16286 (delta 3632), reused 3363 (delta 3359), pack-reused 12407 (from 5)\u001b[K\n",
            "Receiving objects: 100% (16286/16286), 42.74 MiB | 13.57 MiB/s, done.\n",
            "Resolving deltas: 100% (10914/10914), done.\n",
            "Updating files: 100% (409/409), done.\n",
            "/content/drive/MyDrive/AI/ComfyUI\n",
            "-= Updating ComfyUI =-\n",
            "Already up to date.\n",
            "-= Install dependencies =-\n",
            "Looking in indexes: https://pypi.org/simple, https://download.pytorch.org/whl/cu121, https://download.pytorch.org/whl/cu118, https://download.pytorch.org/whl/cu117\n",
            "Collecting xformers==0.0.22.post4+cu118\n",
            "  Downloading https://download.pytorch.org/whl/cu118/xformers-0.0.22.post4%2Bcu118-cp310-cp310-manylinux2014_x86_64.whl (211.4 MB)\n",
            "\u001b[2K     \u001b[90m━━━━━━━━━━━━━━━━━━━━━━━━━━━━━━━━━━━━━━━━\u001b[0m \u001b[32m211.4/211.4 MB\u001b[0m \u001b[31m6.1 MB/s\u001b[0m eta \u001b[36m0:00:00\u001b[0m\n",
            "\u001b[?25hRequirement already satisfied: torch in /usr/local/lib/python3.10/dist-packages (from -r requirements.txt (line 1)) (2.5.1+cu121)\n",
            "Collecting torchsde (from -r requirements.txt (line 2))\n",
            "  Downloading torchsde-0.2.6-py3-none-any.whl.metadata (5.3 kB)\n",
            "Requirement already satisfied: torchvision in /usr/local/lib/python3.10/dist-packages (from -r requirements.txt (line 3)) (0.20.1+cu121)\n",
            "Requirement already satisfied: torchaudio in /usr/local/lib/python3.10/dist-packages (from -r requirements.txt (line 4)) (2.5.1+cu121)\n",
            "Requirement already satisfied: einops in /usr/local/lib/python3.10/dist-packages (from -r requirements.txt (line 5)) (0.8.0)\n",
            "Requirement already satisfied: transformers>=4.28.1 in /usr/local/lib/python3.10/dist-packages (from -r requirements.txt (line 6)) (4.47.1)\n",
            "Requirement already satisfied: tokenizers>=0.13.3 in /usr/local/lib/python3.10/dist-packages (from -r requirements.txt (line 7)) (0.21.0)\n",
            "Requirement already satisfied: sentencepiece in /usr/local/lib/python3.10/dist-packages (from -r requirements.txt (line 8)) (0.2.0)\n",
            "Requirement already satisfied: safetensors>=0.4.2 in /usr/local/lib/python3.10/dist-packages (from -r requirements.txt (line 9)) (0.4.5)\n",
            "Requirement already satisfied: aiohttp in /usr/local/lib/python3.10/dist-packages (from -r requirements.txt (line 10)) (3.11.10)\n",
            "Requirement already satisfied: pyyaml in /usr/local/lib/python3.10/dist-packages (from -r requirements.txt (line 11)) (6.0.2)\n",
            "Requirement already satisfied: Pillow in /usr/local/lib/python3.10/dist-packages (from -r requirements.txt (line 12)) (11.0.0)\n",
            "Requirement already satisfied: scipy in /usr/local/lib/python3.10/dist-packages (from -r requirements.txt (line 13)) (1.13.1)\n",
            "Requirement already satisfied: tqdm in /usr/local/lib/python3.10/dist-packages (from -r requirements.txt (line 14)) (4.67.1)\n",
            "Requirement already satisfied: psutil in /usr/local/lib/python3.10/dist-packages (from -r requirements.txt (line 15)) (5.9.5)\n",
            "Collecting kornia>=0.7.1 (from -r requirements.txt (line 18))\n",
            "  Downloading kornia-0.7.4-py2.py3-none-any.whl.metadata (18 kB)\n",
            "Collecting spandrel (from -r requirements.txt (line 19))\n",
            "  Downloading spandrel-0.4.0-py3-none-any.whl.metadata (15 kB)\n",
            "Requirement already satisfied: soundfile in /usr/local/lib/python3.10/dist-packages (from -r requirements.txt (line 20)) (0.12.1)\n",
            "Requirement already satisfied: numpy in /usr/local/lib/python3.10/dist-packages (from xformers==0.0.22.post4+cu118) (1.26.4)\n",
            "Collecting torch (from -r requirements.txt (line 1))\n",
            "  Downloading https://download.pytorch.org/whl/cu121/torch-2.1.0%2Bcu121-cp310-cp310-linux_x86_64.whl (2200.6 MB)\n",
            "\u001b[2K     \u001b[91m━━━━━━━━━━━━━━━\u001b[0m\u001b[90m╺\u001b[0m\u001b[90m━━━━━━━━━━━━━━━━━━━━━━━━\u001b[0m \u001b[32m0.8/2.2 GB\u001b[0m \u001b[31m80.2 MB/s\u001b[0m eta \u001b[36m0:00:17\u001b[0m"
          ]
        }
      ],
      "source": [
        "# #@title Environment Setup\n",
        "\n",
        "from pathlib import Path\n",
        "\n",
        "OPTIONS = {}\n",
        "\n",
        "USE_GOOGLE_DRIVE = True  #@param {type:\"boolean\"}\n",
        "UPDATE_COMFY_UI = True  #@param {type:\"boolean\"}\n",
        "INSTALL_COMFYUI_MANAGER = True  #@param {type:\"boolean\"}\n",
        "INSTALL_ANIMATEDIFF = True  #@param {type:\"boolean\"}\n",
        "INSTALL_CUSTOM_NODES_DEPENDENCIES = True  #@param {type:\"boolean\"}\n",
        "OPTIONS['USE_GOOGLE_DRIVE'] = USE_GOOGLE_DRIVE\n",
        "OPTIONS['UPDATE_COMFY_UI'] = UPDATE_COMFY_UI\n",
        "OPTIONS['INSTALL_COMFYUI_MANAGER'] = INSTALL_COMFYUI_MANAGER\n",
        "OPTIONS['INSTALL_ANIMATEDIFF'] = INSTALL_ANIMATEDIFF\n",
        "OPTIONS['INSTALL_CUSTOM_NODES_DEPENDENCIES'] = INSTALL_CUSTOM_NODES_DEPENDENCIES\n",
        "\n",
        "current_dir = !pwd\n",
        "AI_WORKSPACE = f\"{current_dir[0]}/AI\"\n",
        "COMFY_WORKSPACE = f\"{current_dir[0]}/AI/ComfyUI\"\n",
        "\n",
        "if OPTIONS['USE_GOOGLE_DRIVE']:\n",
        "  !echo \"Mounting Google Drive...\"\n",
        "  %cd /\n",
        "\n",
        "  from google.colab import drive\n",
        "  drive.mount('/content/drive')\n",
        "\n",
        "  AI_WORKSPACE = \"/content/drive/MyDrive/AI\"\n",
        "  COMFY_WORKSPACE = \"/content/drive/MyDrive/AI/ComfyUI\"\n",
        "\n",
        "import os\n",
        "!echo \"Creating AI workspace (if it doesn't exist)\"\n",
        "os.makedirs(AI_WORKSPACE, exist_ok=True)\n",
        "\n",
        "%cd $AI_WORKSPACE\n",
        "\n",
        "![ ! -d $COMFY_WORKSPACE ] && echo -= Initial setup ComfyUI =- && git clone https://github.com/comfyanonymous/ComfyUI\n",
        "%cd $COMFY_WORKSPACE\n",
        "\n",
        "if OPTIONS['UPDATE_COMFY_UI']:\n",
        "  !echo \"-= Updating ComfyUI =-\"\n",
        "  !git pull\n",
        "\n",
        "!echo \"-= Install dependencies =-\"\n",
        "!pip install https://download.pytorch.org/whl/cu118/xformers-0.0.22.post4%2Bcu118-cp310-cp310-manylinux2014_x86_64.whl -r requirements.txt --extra-index-url https://download.pytorch.org/whl/cu121 --extra-index-url https://download.pytorch.org/whl/cu118 --extra-index-url https://download.pytorch.org/whl/cu117\n",
        "!pip install onnxruntime-gpu color-matcher simpleeval\n",
        "\n",
        "if OPTIONS['INSTALL_COMFYUI_MANAGER']:\n",
        "  %cd custom_nodes\n",
        "  ![ ! -d ComfyUI-Manager ] && echo -= Initial setup ComfyUI-Manager =- && git clone https://github.com/ltdrdata/ComfyUI-Manager\n",
        "  %cd ComfyUI-Manager\n",
        "  !git pull\n",
        "\n",
        "if OPTIONS['INSTALL_ANIMATEDIFF']:\n",
        "  %cd ../\n",
        "  ![ ! -d ComfyUI-AnimateDiff-Evolved ] && echo -= Initial setup AnimateDiff =- && git clone https://github.com/Kosinkadink/ComfyUI-AnimateDiff-Evolved\n",
        "  %cd ComfyUI-AnimateDiff-Evolved\n",
        "  !git pull\n",
        "\n",
        "%cd $COMFY_WORKSPACE\n",
        "\n",
        "if OPTIONS['INSTALL_CUSTOM_NODES_DEPENDENCIES']:\n",
        "  !pwd\n",
        "  !echo \"-= Install custom nodes dependencies =-\"\n",
        "  ![ -f \"custom_nodes/ComfyUI-Manager/scripts/colab-dependencies.py\" ] && python \"custom_nodes/ComfyUI-Manager/scripts/colab-dependencies.py\"\n"
      ]
    },
    {
      "cell_type": "markdown",
      "metadata": {
        "id": "7qwFFxecEJ2G"
      },
      "source": [
        "## Install ComfyUI 3D pack and Dependencies"
      ]
    },
    {
      "cell_type": "code",
      "execution_count": null,
      "metadata": {
        "id": "Ezsq65l2_E0M"
      },
      "outputs": [],
      "source": [
        "!pip3 uninstall --yes torch torchaudio torchvision torchtext torchdata\n",
        "!pip3 install torch==2.3.0 torchaudio torchvision torchtext torchdata"
      ]
    },
    {
      "cell_type": "code",
      "execution_count": null,
      "metadata": {
        "id": "b09YrxgpEN6I"
      },
      "outputs": [],
      "source": [
        "!pip install xformers==0.0.26.post1"
      ]
    },
    {
      "cell_type": "code",
      "execution_count": null,
      "metadata": {
        "id": "4_p5i_FE7Q0v"
      },
      "outputs": [],
      "source": [
        "%cd $COMFY_WORKSPACE/custom_nodes/\n",
        "!git clone https://github.com/MrForExample/ComfyUI-3D-Pack.git\n",
        "%cd $COMFY_WORKSPACE/custom_nodes/ComfyUI-3D-Pack\n",
        "!git pull\n",
        "!pip install -r requirements.txt"
      ]
    },
    {
      "cell_type": "code",
      "execution_count": null,
      "metadata": {
        "id": "Dvl_B68O7S-v"
      },
      "outputs": [],
      "source": [
        "%cd $COMFY_WORKSPACE\n",
        "!pip install trimesh\n",
        "!pip install diffusers opencv-python transformers accelerate insightface\n",
        "!pip install onnxruntime\n",
        "!pip install addict\n",
        "!pip install segment_anything\n",
        "!pip install omegaconf\n",
        "!pip install loralib\n",
        "!pip install yapf\n",
        "!pip install lion_pytorch\n",
        "!pip install pytorch-lightning\n",
        "!pip install open_clip_torch\n",
        "!pip install watchdog\n",
        "!pip install numpy\n",
        "!pip install pyOpenSSL\n",
        "!pip install opencv-python-headless\n",
        "!pip install matplotlib\n",
        "!pip install openai\n",
        "!pip install simple-lama-inpainting\n",
        "!pip install clip-interrogator==0.6.0\n",
        "!pip install transformers>=4.36.0\n",
        "!pip install lark-parser\n",
        "!pip install imageio-ffmpeg\n",
        "!pip install rembg[gpu]\n",
        "!pip install Pillow>=9.5.0\n",
        "!pip install einops==0.7.0\n",
        "!pip install huggingface-hub\n",
        "!pip install scikit-image\n",
        "!pip install fvcore"
      ]
    },
    {
      "cell_type": "code",
      "execution_count": null,
      "metadata": {
        "id": "hgR0g7e47cmG"
      },
      "outputs": [],
      "source": [
        "%cd $COMFY_WORKSPACE/custom_nodes/ComfyUI-3D-Pack\n",
        "!git clone --recursive https://github.com/ashawkey/diff-gaussian-rasterization\n",
        "!pip install ./diff-gaussian-rasterization"
      ]
    },
    {
      "cell_type": "code",
      "execution_count": null,
      "metadata": {
        "id": "1FLOj3v07dbg"
      },
      "outputs": [],
      "source": [
        "# Update and install required system packages\n",
        "!apt-get update\n",
        "!DEBIAN_FRONTEND=noninteractive apt-get install -y --no-install-recommends \\\n",
        "    pkg-config \\\n",
        "    libglvnd0 \\\n",
        "    libgl1 \\\n",
        "    libglx0 \\\n",
        "    libegl1 \\\n",
        "    libgles2 \\\n",
        "    libglvnd-dev \\\n",
        "    libgl1-mesa-dev \\\n",
        "    libegl1-mesa-dev \\\n",
        "    libgles2-mesa-dev \\\n",
        "    cmake \\\n",
        "    curl\n",
        "\n",
        "# Upgrade pip and install required Python packages\n",
        "!pip install --upgrade pip\n",
        "!pip install ninja imageio imageio-ffmpeg\n",
        "\n",
        "# Clone the repository (Replace with your actual repository)\n",
        "!git clone https://github.com/NVlabs/nvdiffrast.git\n",
        "%cd nvdiffrast\n",
        "# Install your package\n",
        "!pip install .\n",
        "\n",
        "# Set environment variables\n",
        "import os\n",
        "os.environ['PYTHONDONTWRITEBYTECODE'] = '1'\n",
        "os.environ['PYTHONUNBUFFERED'] = '1'\n",
        "os.environ['LD_LIBRARY_PATH'] = '/usr/lib64:' + os.environ.get('LD_LIBRARY_PATH', '')\n",
        "os.environ['NVIDIA_VISIBLE_DEVICES'] = 'all'\n",
        "os.environ['NVIDIA_DRIVER_CAPABILITIES'] = 'compute,utility,graphics'\n",
        "os.environ['PYOPENGL_PLATFORM'] = 'egl'\n",
        "\n",
        "# Verify installation\n",
        "!pip list"
      ]
    },
    {
      "cell_type": "code",
      "source": [
        "!pip install kiui\n",
        "!pip install torch-scatter"
      ],
      "metadata": {
        "id": "ueGq6bdYg8DZ"
      },
      "execution_count": null,
      "outputs": []
    },
    {
      "cell_type": "code",
      "execution_count": null,
      "metadata": {
        "id": "zpyqgDVFGPxW"
      },
      "outputs": [],
      "source": [
        "!sudo apt-get install libnvidia-gl-535-server"
      ]
    },
    {
      "cell_type": "code",
      "execution_count": null,
      "metadata": {
        "id": "fUJGjJjC7hM5"
      },
      "outputs": [],
      "source": [
        "%cd $COMFY_WORKSPACE/ComfyUI-3D-Pack/\n",
        "!git clone https://github.com/facebookresearch/pytorch3d.git\n",
        "%cd pytorch3d\n",
        "!pip install .\n",
        "%cd $COMFY_WORKSPACE/ComfyUI-3D-Pack/\n",
        "!git clone https://github.com/camenduru/simple-knn.git\n",
        "%cd simple-knn\n",
        "!pip install .\n",
        "%cd $COMFY_WORKSPACE"
      ]
    },
    {
      "cell_type": "markdown",
      "metadata": {
        "id": "cccccccccc"
      },
      "source": [
        "## Download resources (models, VAEs, LoRAs, Controlnets et al.)"
      ]
    },
    {
      "cell_type": "code",
      "execution_count": null,
      "metadata": {
        "cellView": "form",
        "id": "k6Gx-X7Rnwc_"
      },
      "outputs": [],
      "source": [
        "#@markdown ###Download custom resource (OPTIONAL)\n",
        "resource_url = \"https://civitai.com/api/download/models/148085\" #@param {type:\"string\"}\n",
        "#@markdown (NOTE: Specify file name and extension for civitai resources)\n",
        "resource_name = \"helloyoung25d_V10f.safetensors\" #@param {type:\"string\"}\n",
        "output_path = \"./models/checkpoints/\" #@param [\"./models/checkpoints/\",\"./models/vae/\",\"./models/loras/\",\"./models/controlnet/\",\"./models/style_models/\",\"./models/upscale_models/\",\"./custom_nodes/ComfyUI-AnimateDiff-Evolved/models/\",\"./custom_nodes/ComfyUI-AnimateDiff-Evolved/motion_lora/\"]\n",
        "\n",
        "if resource_url and output_path:\n",
        "  if resource_name:\n",
        "    !wget -c \"{resource_url}\" -O \"{output_path}{resource_name}\"\n",
        "  else:\n",
        "    !wget -c \"{resource_url}\" -P \"{output_path}\""
      ]
    },
    {
      "cell_type": "code",
      "execution_count": null,
      "metadata": {
        "cellView": "form",
        "id": "dddddddddd"
      },
      "outputs": [],
      "source": [
        "#@markdown ###Download standard resources\n",
        "#@markdown (NOTE: These resources are saved if \"Using Google Drive\" is checked, so you only need to run once).\n",
        "### SDXL\n",
        "### I recommend these workflow examples: https://comfyanonymous.github.io/ComfyUI_examples/sdxl/\n",
        "\n",
        "OPTIONS = {}\n",
        "\n",
        "#@markdown **Models**\n",
        "\n",
        "SDXL_1_0_BASE_AND_REFINER = False  #@param {type:\"boolean\"}\n",
        "OPTIONS['SDXL_1_0_BASE_AND_REFINER'] = SDXL_1_0_BASE_AND_REFINER\n",
        "\n",
        "if OPTIONS['SDXL_1_0_BASE_AND_REFINER']:\n",
        "  !wget -c https://huggingface.co/stabilityai/stable-diffusion-xl-base-1.0/resolve/main/sd_xl_base_1.0.safetensors -P ./models/checkpoints/\n",
        "  !wget -c https://huggingface.co/stabilityai/stable-diffusion-xl-refiner-1.0/resolve/main/sd_xl_refiner_1.0.safetensors -P ./models/checkpoints/\n",
        "\n",
        "SD_2_0_MODELS = False  #@param {type:\"boolean\"}\n",
        "OPTIONS['SD_2_0_MODELS'] = SD_2_0_MODELS\n",
        "\n",
        "if OPTIONS['SD_2_0_MODELS']:\n",
        "  !wget -c https://huggingface.co/stabilityai/stable-diffusion-2-1-base/resolve/main/v2-1_512-ema-pruned.safetensors -P ./models/checkpoints/\n",
        "  !wget -c https://huggingface.co/stabilityai/stable-diffusion-2-1/resolve/main/v2-1_768-ema-pruned.safetensors -P ./models/checkpoints/\n",
        "\n",
        "SD_1_5_MODEL = True  #@param {type:\"boolean\"}\n",
        "OPTIONS['SD_1_5_MODEL'] = SD_1_5_MODEL\n",
        "\n",
        "if OPTIONS['SD_1_5_MODEL']:\n",
        "  !wget -c https://huggingface.co/runwayml/stable-diffusion-v1-5/resolve/main/v1-5-pruned-emaonly.ckpt -P ./models/checkpoints/\n",
        "\n",
        "#@markdown **VAEs**\n",
        "\n",
        "SDXL_1_0_VAE = False  #@param {type:\"boolean\"}\n",
        "OPTIONS['SDXL_1_0_VAE'] = SDXL_1_0_VAE\n",
        "\n",
        "if OPTIONS['SDXL_1_0_VAE']:\n",
        "  !wget -c https://civitai.com/api/download/models/183894 -O ./models/vae/sdxl-vae-fp16-fix.safetensors #sdxl-vae-fp16-fix.safetensors\n",
        "\n",
        "SD_1_5_VAE = True  #@param {type:\"boolean\"}\n",
        "OPTIONS['SD_1_5_VAE'] = SD_1_5_VAE\n",
        "\n",
        "if OPTIONS['SD_1_5_VAE']:\n",
        "  !wget -c https://huggingface.co/stabilityai/sd-vae-ft-mse-original/resolve/main/vae-ft-mse-840000-ema-pruned.safetensors -P ./models/vae/\n",
        "\n",
        "#@markdown **T2I Adapters**\n",
        "\n",
        "T2I_ADAPTER = False  #@param {type:\"boolean\"}\n",
        "OPTIONS['T2I_ADAPTER'] = T2I_ADAPTER\n",
        "\n",
        "if OPTIONS['T2I_ADAPTER']:\n",
        "  !wget -c https://huggingface.co/TencentARC/T2I-Adapter/resolve/main/models/t2iadapter_depth_sd14v1.pth -P ./models/controlnet/\n",
        "  !wget -c https://huggingface.co/TencentARC/T2I-Adapter/resolve/main/models/t2iadapter_seg_sd14v1.pth -P ./models/controlnet/\n",
        "  !wget -c https://huggingface.co/TencentARC/T2I-Adapter/resolve/main/models/t2iadapter_sketch_sd14v1.pth -P ./models/controlnet/\n",
        "  !wget -c https://huggingface.co/TencentARC/T2I-Adapter/resolve/main/models/t2iadapter_keypose_sd14v1.pth -P ./models/controlnet/\n",
        "  !wget -c https://huggingface.co/TencentARC/T2I-Adapter/resolve/main/models/t2iadapter_openpose_sd14v1.pth -P ./models/controlnet/\n",
        "  !wget -c https://huggingface.co/TencentARC/T2I-Adapter/resolve/main/models/t2iadapter_color_sd14v1.pth -P ./models/controlnet/\n",
        "  !wget -c https://huggingface.co/TencentARC/T2I-Adapter/resolve/main/models/t2iadapter_canny_sd14v1.pth -P ./models/controlnet/\n",
        "\n",
        "T2I_STYLES_MODEL = False  #@param {type:\"boolean\"}\n",
        "OPTIONS['T2I_STYLES_MODEL'] = T2I_STYLES_MODEL\n",
        "\n",
        "if OPTIONS['T2I_STYLES_MODEL']:\n",
        "  !wget -c https://huggingface.co/TencentARC/T2I-Adapter/resolve/main/models/t2iadapter_style_sd14v1.pth -P ./models/style_models/\n",
        "\n",
        "#@markdown **Controlnets**\n",
        "\n",
        "SDXL_1_0_CONTROLNETS = False  #@param {type:\"boolean\"}\n",
        "OPTIONS['SDXL_1_0_CONTROLNETS'] = SDXL_1_0_CONTROLNETS\n",
        "\n",
        "if OPTIONS['SDXL_1_0_CONTROLNETS']:\n",
        "  !wget -c https://huggingface.co/stabilityai/control-lora/resolve/main/control-LoRAs-rank256/control-lora-canny-rank256.safetensors -P ./models/controlnet/\n",
        "  !wget -c https://huggingface.co/stabilityai/control-lora/resolve/main/control-LoRAs-rank256/control-lora-depth-rank256.safetensors -P ./models/controlnet/\n",
        "  !wget -c https://huggingface.co/stabilityai/control-lora/resolve/main/control-LoRAs-rank256/control-lora-recolor-rank256.safetensors -P ./models/controlnet/\n",
        "  !wget -c https://huggingface.co/stabilityai/control-lora/resolve/main/control-LoRAs-rank256/control-lora-sketch-rank256.safetensors -P ./models/controlnet/\n",
        "\n",
        "SD_1_5_CONTROLNETS = False  #@param {type:\"boolean\"}\n",
        "OPTIONS['SD_1_5_CONTROLNETS'] = SD_1_5_CONTROLNETS\n",
        "\n",
        "if OPTIONS['SD_1_5_CONTROLNETS']:\n",
        "  !wget -c https://huggingface.co/comfyanonymous/ControlNet-v1-1_fp16_safetensors/resolve/main/control_v11e_sd15_ip2p_fp16.safetensors -P ./models/controlnet/\n",
        "  !wget -c https://huggingface.co/comfyanonymous/ControlNet-v1-1_fp16_safetensors/resolve/main/control_v11e_sd15_shuffle_fp16.safetensors -P ./models/controlnet/\n",
        "  !wget -c https://huggingface.co/comfyanonymous/ControlNet-v1-1_fp16_safetensors/resolve/main/control_v11p_sd15_canny_fp16.safetensors -P ./models/controlnet/\n",
        "  !wget -c https://huggingface.co/comfyanonymous/ControlNet-v1-1_fp16_safetensors/resolve/main/control_v11f1p_sd15_depth_fp16.safetensors -P ./models/controlnet/\n",
        "  !wget -c https://huggingface.co/comfyanonymous/ControlNet-v1-1_fp16_safetensors/resolve/main/control_v11p_sd15_inpaint_fp16.safetensors -P ./models/controlnet/\n",
        "  !wget -c https://huggingface.co/comfyanonymous/ControlNet-v1-1_fp16_safetensors/resolve/main/control_v11p_sd15_lineart_fp16.safetensors -P ./models/controlnet/\n",
        "  !wget -c https://huggingface.co/comfyanonymous/ControlNet-v1-1_fp16_safetensors/resolve/main/control_v11p_sd15_mlsd_fp16.safetensors -P ./models/controlnet/\n",
        "  !wget -c https://huggingface.co/comfyanonymous/ControlNet-v1-1_fp16_safetensors/resolve/main/control_v11p_sd15_normalbae_fp16.safetensors -P ./models/controlnet/\n",
        "  !wget -c https://huggingface.co/comfyanonymous/ControlNet-v1-1_fp16_safetensors/resolve/main/control_v11p_sd15_openpose_fp16.safetensors -P ./models/controlnet/\n",
        "  !wget -c https://huggingface.co/comfyanonymous/ControlNet-v1-1_fp16_safetensors/resolve/main/control_v11p_sd15_scribble_fp16.safetensors -P ./models/controlnet/\n",
        "  !wget -c https://huggingface.co/comfyanonymous/ControlNet-v1-1_fp16_safetensors/resolve/main/control_v11p_sd15_seg_fp16.safetensors -P ./models/controlnet/\n",
        "  !wget -c https://huggingface.co/comfyanonymous/ControlNet-v1-1_fp16_safetensors/resolve/main/control_v11p_sd15_softedge_fp16.safetensors -P ./models/controlnet/\n",
        "  !wget -c https://huggingface.co/comfyanonymous/ControlNet-v1-1_fp16_safetensors/resolve/main/control_v11p_sd15s2_lineart_anime_fp16.safetensors -P ./models/controlnet/\n",
        "  !wget -c https://huggingface.co/comfyanonymous/ControlNet-v1-1_fp16_safetensors/resolve/main/control_v11u_sd15_tile_fp16.safetensors -P ./models/controlnet/\n",
        "\n",
        "#@markdown **Upscalers**\n",
        "\n",
        "ESRGAN_UPSCALER = False  #@param {type:\"boolean\"}\n",
        "OPTIONS['ESRGAN_UPSCALER'] = ESRGAN_UPSCALER\n",
        "\n",
        "if OPTIONS['ESRGAN_UPSCALER']:\n",
        "  !wget -c https://github.com/xinntao/Real-ESRGAN/releases/download/v0.1.0/RealESRGAN_x4plus.pth -P ./models/upscale_models/\n",
        "  !wget -c https://huggingface.co/sberbank-ai/Real-ESRGAN/resolve/main/RealESRGAN_x2.pth -P ./models/upscale_models/\n",
        "  !wget -c https://huggingface.co/sberbank-ai/Real-ESRGAN/resolve/main/RealESRGAN_x4.pth -P ./models/upscale_models/\n",
        "\n",
        "#@markdown **AnimateDiff**\n",
        "\n",
        "AD_MOTION_MODELS = True  #@param {type:\"boolean\"}\n",
        "OPTIONS['AD_MOTION_MODELS'] = AD_MOTION_MODELS\n",
        "\n",
        "if OPTIONS['AD_MOTION_MODELS']:\n",
        "  !wget -c https://huggingface.co/guoyww/animatediff/resolve/main/mm_sd_v14.ckpt -P ./custom_nodes/ComfyUI-AnimateDiff-Evolved/models/\n",
        "  !wget -c https://huggingface.co/guoyww/animatediff/resolve/main/mm_sd_v15.ckpt -P ./custom_nodes/ComfyUI-AnimateDiff-Evolved/models/\n",
        "  !wget -c https://huggingface.co/guoyww/animatediff/resolve/main/mm_sd_v15_v2.ckpt -P ./custom_nodes/ComfyUI-AnimateDiff-Evolved/models/\n",
        "\n",
        "AD_MOTION_LORAS = True  #@param {type:\"boolean\"}\n",
        "OPTIONS['AD_MOTION_LORAS'] = AD_MOTION_LORAS\n",
        "\n",
        "if OPTIONS['AD_MOTION_LORAS']:\n",
        "  !wget -c https://huggingface.co/guoyww/animatediff/resolve/main/v2_lora_PanLeft.ckpt -P ./custom_nodes/ComfyUI-AnimateDiff-Evolved/motion_lora/\n",
        "  !wget -c https://huggingface.co/guoyww/animatediff/resolve/main/v2_lora_PanRight.ckpt -P ./custom_nodes/ComfyUI-AnimateDiff-Evolved/motion_lora/\n",
        "  !wget -c https://huggingface.co/guoyww/animatediff/resolve/main/v2_lora_RollingAnticlockwise.ckpt -P ./custom_nodes/ComfyUI-AnimateDiff-Evolved/motion_lora/\n",
        "  !wget -c https://huggingface.co/guoyww/animatediff/resolve/main/v2_lora_RollingClockwise.ckpt -P ./custom_nodes/ComfyUI-AnimateDiff-Evolved/motion_lora/\n",
        "  !wget -c https://huggingface.co/guoyww/animatediff/resolve/main/v2_lora_TiltDown.ckpt -P ./custom_nodes/ComfyUI-AnimateDiff-Evolved/motion_lora/\n",
        "  !wget -c https://huggingface.co/guoyww/animatediff/resolve/main/v2_lora_TiltUp.ckpt -P ./custom_nodes/ComfyUI-AnimateDiff-Evolved/motion_lora/\n",
        "  !wget -c https://huggingface.co/guoyww/animatediff/resolve/main/v2_lora_ZoomIn.ckpt -P ./custom_nodes/ComfyUI-AnimateDiff-Evolved/motion_lora/\n",
        "  !wget -c https://huggingface.co/guoyww/animatediff/resolve/main/v2_lora_ZoomOut.ckpt -P ./custom_nodes/ComfyUI-AnimateDiff-Evolved/motion_lora/\n"
      ]
    },
    {
      "cell_type": "markdown",
      "metadata": {
        "id": "kkkkkkkkkkkkkkk"
      },
      "source": [
        "## Run ComfyUI\n"
      ]
    },
    {
      "cell_type": "code",
      "execution_count": null,
      "metadata": {
        "id": "jjjjjjjjjjjjjj"
      },
      "outputs": [],
      "source": [
        "#@markdown **Connecting to Cloudflare...**\n",
        "\n",
        "!wget https://github.com/cloudflare/cloudflared/releases/latest/download/cloudflared-linux-amd64.deb\n",
        "!dpkg -i cloudflared-linux-amd64.deb\n",
        "\n",
        "import subprocess\n",
        "import threading\n",
        "import time\n",
        "import socket\n",
        "import urllib.request\n",
        "\n",
        "def iframe_thread(port):\n",
        "  while True:\n",
        "      time.sleep(0.5)\n",
        "      sock = socket.socket(socket.AF_INET, socket.SOCK_STREAM)\n",
        "      result = sock.connect_ex(('127.0.0.1', port))\n",
        "      if result == 0:\n",
        "        break\n",
        "      sock.close()\n",
        "  print(\"\\nComfyUI finished loading, trying to launch cloudflared (if it gets stuck here cloudflared is having issues)\\n\")\n",
        "\n",
        "  p = subprocess.Popen([\"cloudflared\", \"tunnel\", \"--url\", \"http://127.0.0.1:{}\".format(port)], stdout=subprocess.PIPE, stderr=subprocess.PIPE)\n",
        "  for line in p.stderr:\n",
        "    l = line.decode()\n",
        "    if \"trycloudflare.com \" in l:\n",
        "      cf_url = l[l.find(\"http\"):]\n",
        "      print(\"This is the URL to access ComfyUI:\", cf_url, end='')\n",
        "\n",
        "threading.Thread(target=iframe_thread, daemon=True, args=(8188,)).start()\n",
        "\n",
        "!python main.py --dont-print-server"
      ]
    }
  ],
  "metadata": {
    "accelerator": "GPU",
    "colab": {
      "machine_shape": "hm",
      "provenance": [],
      "include_colab_link": true
    },
    "kernelspec": {
      "display_name": "Python 3",
      "name": "python3"
    },
    "language_info": {
      "name": "python"
    }
  },
  "nbformat": 4,
  "nbformat_minor": 0
}